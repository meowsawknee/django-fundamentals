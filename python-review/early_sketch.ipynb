{
 "cells": [
  {
   "cell_type": "code",
   "execution_count": 4,
   "id": "d93a6cce",
   "metadata": {},
   "outputs": [],
   "source": [
    "import random\n",
    "\n",
    "\n",
    "def odd_or_even(number: int) -> str:\n",
    "    \"\"\"_summary_\n",
    "\n",
    "    :param number: _description_\n",
    "    :type number: int\n",
    "    :return: _description_\n",
    "    :rtype: str\n",
    "    \"\"\"\n",
    "    # اول بیایم odd و even رو تعریف کنیم\n",
    "    number = random.choice()\n",
    "    odd = number % 2 != 0\n",
    "    even = number % 2 == 0\n",
    "    if number == odd:\n",
    "        return odd\n",
    "    else:\n",
    "        return even"
   ]
  },
  {
   "cell_type": "code",
   "execution_count": 5,
   "id": "217e9ddd",
   "metadata": {},
   "outputs": [],
   "source": [
    "import random\n",
    "\n",
    "\n",
    "def odd_or_even() -> str:\n",
    "    \"\"\"\n",
    "    Generates a random number and returns whether it is odd or even.\n",
    "\n",
    "    Returns:\n",
    "        str: \"odd\" if the number is odd, \"even\" if it is even.\n",
    "    \"\"\"\n",
    "    number = random.randint(1, 100) # Generates a number between 1 and 100\n",
    "    return \"odd\" if number % 2 != 0 else \"even\""
   ]
  },
  {
   "cell_type": "code",
   "execution_count": 6,
   "id": "47a7d1cb",
   "metadata": {},
   "outputs": [
    {
     "name": "stdout",
     "output_type": "stream",
     "text": [
      "even\n"
     ]
    }
   ],
   "source": [
    "print(odd_or_even())"
   ]
  },
  {
   "cell_type": "code",
   "execution_count": 7,
   "id": "da589be3",
   "metadata": {},
   "outputs": [],
   "source": [
    "import random\n",
    "\n",
    "\n",
    "def odd_or_even(number: int = None) -> str:\n",
    "    \"\"\"\n",
    "    Generates or receives a nuber and returns whether it is odd or even.\n",
    "\n",
    "    Args:\n",
    "        number (int, optional): Number to check. If None, a random number between 1 and 100 is generated.\n",
    "\n",
    "    Returns:\n",
    "        str: \"odd\" if number is odd, \"even\" if number is even.\n",
    "    \"\"\"\n",
    "    if number is None:\n",
    "        number = random.randint(1, 100)\n",
    "    print(f\"Generated number: {number}\")\n",
    "    return \"odd\" if number % 2 != 0 else \"even\""
   ]
  },
  {
   "cell_type": "code",
   "execution_count": 8,
   "id": "c02c192f",
   "metadata": {},
   "outputs": [],
   "source": [
    "# تابعی بنویسید که در آن ورودی عددی از کاربر گرفته و سپس دنباله عددی را از 0 تا عدد ورودی کاربر ایجاد کند.\n",
    "#  سپس اعداد بدست آمده را جمع کرده و جواب نهایی را بازگرداند.\n",
    "\n",
    "# result = function(3)\n",
    "# print(result)\n",
    "# >> 6"
   ]
  },
  {
   "cell_type": "code",
   "execution_count": 9,
   "id": "348a4a2c",
   "metadata": {},
   "outputs": [],
   "source": [
    "def xoxox(number: int) -> int:\n",
    "    \"\"\"_summary_\n",
    "\n",
    "    Args:\n",
    "        number (int): _description_\n",
    "\n",
    "    Returns:\n",
    "        int: _description_\n",
    "    \"\"\"\n",
    "    number = input(\"Enter an integer: \")\n",
    "    range_num = range(1, number)\n",
    "    print(number)\n",
    "    print(range_num)\n",
    "    sum_num = sum(range_num)\n",
    "    return print(sum_num)"
   ]
  },
  {
   "cell_type": "code",
   "execution_count": 10,
   "id": "0af5a857",
   "metadata": {},
   "outputs": [],
   "source": [
    "def sum_up_to(n: int) -> int:\n",
    "    \"\"\"Returns the sum of all integers from 0 up to and including n.\n",
    "                \n",
    "    Args:\n",
    "        n (int): The upper limit of the range (inclusive)\n",
    "\n",
    "    Returns:\n",
    "        int: The sum of the sequence from 0 to n.\n",
    "    \"\"\"\n",
    "    return sum(range(n + 1))"
   ]
  },
  {
   "cell_type": "code",
   "execution_count": 11,
   "id": "f5da20c7",
   "metadata": {},
   "outputs": [
    {
     "ename": "SyntaxError",
     "evalue": "'return' outside function (2981248060.py, line 9)",
     "output_type": "error",
     "traceback": [
      "\u001b[0;36m  Cell \u001b[0;32mIn[11], line 9\u001b[0;36m\u001b[0m\n\u001b[0;31m    return {\"Characters\": {horoof}, \"Numbers\": {adad}}\u001b[0m\n\u001b[0m    ^\u001b[0m\n\u001b[0;31mSyntaxError\u001b[0m\u001b[0;31m:\u001b[0m 'return' outside function\n"
     ]
    }
   ],
   "source": [
    "horoof = []\n",
    "adad = []\n",
    "text = input(\"Enter your text here: \").strip()\n",
    "for i in text:\n",
    "    if i.isdigit():\n",
    "        adad.append(i)\n",
    "    elif i.isalpha():\n",
    "        horoof.append(i)\n",
    "    return {\"Characters\": {horoof}, \"Numbers\": {adad}}\n"
   ]
  },
  {
   "cell_type": "code",
   "execution_count": 13,
   "id": "f9da9ad3",
   "metadata": {},
   "outputs": [],
   "source": [
    "def count_characters_and_digits(text: str) -> dict[str, int]:\n",
    "    \"\"\"\n",
    "    Counts the number of alphabetic characters (excluding spaces)\n",
    "    and numeric digits in the input text.\n",
    "\n",
    "    Args:\n",
    "        text (str): The input string provided by the user.\n",
    "\n",
    "    Returns:\n",
    "        dict[str, int]: A dictionary with count of characters and digits.\n",
    "                        Example: {\"Characters\": 6, \"Numbers\": 3}\n",
    "    \"\"\"\n",
    "    char_count = 0\n",
    "    digit_count = 0\n",
    "    \n",
    "    for char in text:\n",
    "        if char.isdigit():\n",
    "            digit_count += 1\n",
    "        elif char.isalpha():\n",
    "            char_count += 1\n",
    "    \n",
    "    return {\"Characters\": char_count, \"Numbers\": digit_count}\n"
   ]
  },
  {
   "cell_type": "code",
   "execution_count": 1,
   "id": "0fc1d244",
   "metadata": {},
   "outputs": [
    {
     "name": "stdout",
     "output_type": "stream",
     "text": [
      "Salary: 12000\n",
      "Salary: 8000\n"
     ]
    }
   ],
   "source": [
    "salary = 8000\n",
    "def printSalary():\n",
    "       salary = 12000\n",
    "       print(\"Salary:\", salary)\n",
    "printSalary()\n",
    "print(\"Salary:\", salary)"
   ]
  },
  {
   "cell_type": "code",
   "execution_count": 2,
   "id": "9eaf9d61",
   "metadata": {},
   "outputs": [
    {
     "name": "stdout",
     "output_type": "stream",
     "text": [
      "10 20 30\n"
     ]
    }
   ],
   "source": [
    "p, q, r = 10, 20 ,30\n",
    "print(p, q, r)"
   ]
  },
  {
   "cell_type": "code",
   "execution_count": 3,
   "id": "0325acab",
   "metadata": {},
   "outputs": [
    {
     "name": "stdout",
     "output_type": "stream",
     "text": [
      "30\n"
     ]
    }
   ],
   "source": [
    "def calculate (num1, num2=4):\n",
    "      res = num1 * num2\n",
    "      print(res)\n",
    " \n",
    "calculate(5, 6)"
   ]
  },
  {
   "cell_type": "code",
   "execution_count": null,
   "id": "2c11893f",
   "metadata": {},
   "outputs": [],
   "source": [
    "user_input = input(\"Enter your username: \")\n",
    "password_input = input(\"Enter your password: \")\n",
    "if user_input != \"admin\":\n",
    "    print(\"User not found!\")\n",
    "elif user_input == \"admin\" and password_input != \"admin\":\n",
    "    print(\"Incorrect Password!\")\n",
    "elif user_input == \"admin\" and password_input == \"admin\":\n",
    "    print(\"Successful Login!\")\n"
   ]
  }
 ],
 "metadata": {
  "kernelspec": {
   "display_name": "pbpenv",
   "language": "python",
   "name": "python3"
  },
  "language_info": {
   "codemirror_mode": {
    "name": "ipython",
    "version": 3
   },
   "file_extension": ".py",
   "mimetype": "text/x-python",
   "name": "python",
   "nbconvert_exporter": "python",
   "pygments_lexer": "ipython3",
   "version": "3.11.11"
  }
 },
 "nbformat": 4,
 "nbformat_minor": 5
}
