{
 "cells": [
  {
   "cell_type": "code",
   "execution_count": 2,
   "id": "d93a6cce",
   "metadata": {},
   "outputs": [],
   "source": [
    "import random\n",
    "\n",
    "\n",
    "def odd_or_even(number: int) -> str:\n",
    "    \"\"\"_summary_\n",
    "\n",
    "    :param number: _description_\n",
    "    :type number: int\n",
    "    :return: _description_\n",
    "    :rtype: str\n",
    "    \"\"\"\n",
    "    # اول بیایم odd و even رو تعریف کنیم\n",
    "    number = random.choice()\n",
    "    odd = number % 2 != 0\n",
    "    even = number % 2 == 0\n",
    "    if number == odd:\n",
    "        return odd\n",
    "    else:\n",
    "        return even"
   ]
  },
  {
   "cell_type": "code",
   "execution_count": 4,
   "id": "217e9ddd",
   "metadata": {},
   "outputs": [],
   "source": [
    "import random\n",
    "\n",
    "\n",
    "def odd_or_even() -> str:\n",
    "    \"\"\"\n",
    "    Generates a random number and returns whether it is odd or even.\n",
    "\n",
    "    Returns:\n",
    "        str: \"odd\" if the number is odd, \"even\" if it is even.\n",
    "    \"\"\"\n",
    "    number = random.randint(1, 100) # Generates a number between 1 and 100\n",
    "    return \"odd\" if number % 2 != 0 else \"even\""
   ]
  },
  {
   "cell_type": "code",
   "execution_count": 25,
   "id": "47a7d1cb",
   "metadata": {},
   "outputs": [
    {
     "name": "stdout",
     "output_type": "stream",
     "text": [
      "odd\n"
     ]
    }
   ],
   "source": [
    "print(odd_or_even())"
   ]
  },
  {
   "cell_type": "code",
   "execution_count": 29,
   "id": "da589be3",
   "metadata": {},
   "outputs": [],
   "source": [
    "import random\n",
    "\n",
    "\n",
    "def odd_or_even(number: int = None) -> str:\n",
    "    \"\"\"\n",
    "    Generates or receives a nuber and returns whether it is odd or even.\n",
    "\n",
    "    Args:\n",
    "        number (int, optional): Number to check. If None, a random number between 1 and 100 is generated.\n",
    "\n",
    "    Returns:\n",
    "        str: \"odd\" if number is odd, \"even\" if number is even.\n",
    "    \"\"\"\n",
    "    if number is None:\n",
    "        number = random.randint(1, 100)\n",
    "    print(f\"Generated number: {number}\")\n",
    "    return \"odd\" if number % 2 != 0 else \"even\""
   ]
  },
  {
   "cell_type": "code",
   "execution_count": 31,
   "id": "c02c192f",
   "metadata": {},
   "outputs": [],
   "source": [
    "# تابعی بنویسید که در آن ورودی عددی از کاربر گرفته و سپس دنباله عددی را از 0 تا عدد ورودی کاربر ایجاد کند.\n",
    "#  سپس اعداد بدست آمده را جمع کرده و جواب نهایی را بازگرداند.\n",
    "\n",
    "# result = function(3)\n",
    "# print(result)\n",
    "# >> 6"
   ]
  },
  {
   "cell_type": "code",
   "execution_count": 33,
   "id": "348a4a2c",
   "metadata": {},
   "outputs": [],
   "source": [
    "def xoxox(number: int) -> int:\n",
    "    \"\"\"_summary_\n",
    "\n",
    "    Args:\n",
    "        number (int): _description_\n",
    "\n",
    "    Returns:\n",
    "        int: _description_\n",
    "    \"\"\"\n",
    "    number = input(\"Enter an integer: \")\n",
    "    range_num = range(1, number)\n",
    "    print(number)\n",
    "    print(range_num)\n",
    "    sum_num = sum(range_num)\n",
    "    return print(sum_num)"
   ]
  },
  {
   "cell_type": "code",
   "execution_count": 36,
   "id": "0af5a857",
   "metadata": {},
   "outputs": [],
   "source": [
    "def sum_up_to(n: int) -> int:\n",
    "    \"\"\"Returns the sum of all integers from 0 up to and including n.\n",
    "                \n",
    "    Args:\n",
    "        n (int): The upper limit of the range (inclusive)\n",
    "\n",
    "    Returns:\n",
    "        int: The sum of the sequence from 0 to n.\n",
    "    \"\"\"\n",
    "    return sum(range(n + 1))"
   ]
  }
 ],
 "metadata": {
  "kernelspec": {
   "display_name": "pbpenv",
   "language": "python",
   "name": "python3"
  },
  "language_info": {
   "codemirror_mode": {
    "name": "ipython",
    "version": 3
   },
   "file_extension": ".py",
   "mimetype": "text/x-python",
   "name": "python",
   "nbconvert_exporter": "python",
   "pygments_lexer": "ipython3",
   "version": "3.11.11"
  }
 },
 "nbformat": 4,
 "nbformat_minor": 5
}
