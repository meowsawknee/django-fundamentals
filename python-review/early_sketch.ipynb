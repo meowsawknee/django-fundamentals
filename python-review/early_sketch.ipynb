{
 "cells": [
  {
   "cell_type": "code",
   "execution_count": 2,
   "id": "d93a6cce",
   "metadata": {},
   "outputs": [],
   "source": [
    "import random\n",
    "\n",
    "\n",
    "def odd_or_even(number: int) -> str:\n",
    "    \"\"\"_summary_\n",
    "\n",
    "    :param number: _description_\n",
    "    :type number: int\n",
    "    :return: _description_\n",
    "    :rtype: str\n",
    "    \"\"\"\n",
    "    # اول بیایم odd و even رو تعریف کنیم\n",
    "    number = random.choice()\n",
    "    odd = number % 2 != 0\n",
    "    even = number % 2 == 0\n",
    "    if number == odd:\n",
    "        return odd\n",
    "    else:\n",
    "        return even"
   ]
  },
  {
   "cell_type": "code",
   "execution_count": 4,
   "id": "217e9ddd",
   "metadata": {},
   "outputs": [],
   "source": [
    "import random\n",
    "\n",
    "\n",
    "def odd_or_even() -> str:\n",
    "    \"\"\"\n",
    "    Generates a random number and returns whether it is odd or even.\n",
    "\n",
    "    Returns:\n",
    "        str: \"odd\" if the number is odd, \"even\" if it is even.\n",
    "    \"\"\"\n",
    "    number = random.randint(1, 100) # Generates a number between 1 and 100\n",
    "    return \"odd\" if number % 2 != 0 else \"even\""
   ]
  },
  {
   "cell_type": "code",
   "execution_count": 25,
   "id": "47a7d1cb",
   "metadata": {},
   "outputs": [
    {
     "name": "stdout",
     "output_type": "stream",
     "text": [
      "odd\n"
     ]
    }
   ],
   "source": [
    "print(odd_or_even())"
   ]
  },
  {
   "cell_type": "code",
   "execution_count": 28,
   "id": "da589be3",
   "metadata": {},
   "outputs": [],
   "source": [
    "import random\n",
    "\n",
    "\n",
    "def odd_or_even(number: int = None) -> str:\n",
    "    \"\"\"\n",
    "    Generates or receives a nuber and returns whether it is odd or even.\n",
    "\n",
    "    Args:\n",
    "        number (int, optional): Number to check. If None, a random number between 1 and 100 is generated.\n",
    "\n",
    "    Returns:\n",
    "        str: \"odd\" if number is odd, \"even\" if number is even.\n",
    "    \"\"\"\n",
    "    if number is None:\n",
    "        number = random.randint(1, 100)\n",
    "    print(f\"Generated number: {number}\")\n",
    "    return \"odd\" if number % 2 != 0 else \"even\""
   ]
  }
 ],
 "metadata": {
  "kernelspec": {
   "display_name": "pbpenv",
   "language": "python",
   "name": "python3"
  },
  "language_info": {
   "codemirror_mode": {
    "name": "ipython",
    "version": 3
   },
   "file_extension": ".py",
   "mimetype": "text/x-python",
   "name": "python",
   "nbconvert_exporter": "python",
   "pygments_lexer": "ipython3",
   "version": "3.11.11"
  }
 },
 "nbformat": 4,
 "nbformat_minor": 5
}
